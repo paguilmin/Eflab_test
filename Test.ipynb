{
 "cells": [
  {
   "cell_type": "markdown",
   "metadata": {},
   "source": [
    "## Effilab - business case"
   ]
  },
  {
   "cell_type": "markdown",
   "metadata": {},
   "source": [
    "Comment : please download this notebook and work locally as several candidates can access it. Thank you."
   ]
  },
  {
   "cell_type": "markdown",
   "metadata": {},
   "source": [
    "Effilab bids on keywords on Google Ads for its around 10,000 clients. The goal is to achieve the number of conversions promised to the client while spending an optimal budget on adwords. Currently, we have a model optimizing budget and cpc bid (cost per click bid) at the campaign level."
   ]
  },
  {
   "cell_type": "markdown",
   "metadata": {},
   "source": [
    "One of our goal to optimize the cpc is to understand the evolution of conversions in function of clicks and impressions.\n",
    "\n",
    "- **impression**: number of times the ads was shown by Google to a user. It depends, between other factors, on the cpc bid.\n",
    "- **CPC**: cost per click\n",
    "- **average_position**: average position (rank) in Google result pages. \n",
    "- **click**: when a user clicks on an ad\n",
    "- **conversion**: when a user did a specific action on the client's website (for example filling a form to get info)."
   ]
  },
  {
   "cell_type": "markdown",
   "metadata": {},
   "source": [
    "The csv 'dataset.csv' contains some data extracted from Google adwords. A first step will consist in extracting the dataset, checking the data and features that will help modelize the number of conversions. You can start with an exploratory analysis and some simple conclusions and modelization eventually."
   ]
  },
  {
   "cell_type": "markdown",
   "metadata": {},
   "source": [
    "### Environment"
   ]
  },
  {
   "cell_type": "markdown",
   "metadata": {},
   "source": [
    "Librairires\n",
    "\n",
    "- sklearn\n",
    "- pandas\n",
    "- dask\n",
    "- numpy\n",
    "- scipy\n",
    "- matplotlib"
   ]
  },
  {
   "cell_type": "markdown",
   "metadata": {},
   "source": [
    "If necessary, it is possible to install an external dependancy using `pip install <library>`"
   ]
  },
  {
   "cell_type": "code",
   "execution_count": 1,
   "metadata": {},
   "outputs": [],
   "source": [
    "import pandas as pd\n",
    "import numpy as np\n",
    "import matplotlib.pyplot as plt\n",
    "import seaborn as sns"
   ]
  },
  {
   "cell_type": "code",
   "execution_count": 4,
   "metadata": {},
   "outputs": [],
   "source": [
    "df = pd.read_csv(\n",
    "    'dataset.csv',\n",
    "    engine='python'\n",
    ")"
   ]
  },
  {
   "cell_type": "code",
   "execution_count": 5,
   "metadata": {},
   "outputs": [
    {
     "data": {
      "text/html": [
       "<div>\n",
       "<style scoped>\n",
       "    .dataframe tbody tr th:only-of-type {\n",
       "        vertical-align: middle;\n",
       "    }\n",
       "\n",
       "    .dataframe tbody tr th {\n",
       "        vertical-align: top;\n",
       "    }\n",
       "\n",
       "    .dataframe thead th {\n",
       "        text-align: right;\n",
       "    }\n",
       "</style>\n",
       "<table border=\"1\" class=\"dataframe\">\n",
       "  <thead>\n",
       "    <tr style=\"text-align: right;\">\n",
       "      <th></th>\n",
       "      <th>Unnamed: 0</th>\n",
       "      <th>customer_id</th>\n",
       "      <th>campaign_id</th>\n",
       "      <th>ad_group_id</th>\n",
       "      <th>keyword_id</th>\n",
       "      <th>keyword_text_matching_query</th>\n",
       "      <th>date</th>\n",
       "      <th>clicks</th>\n",
       "      <th>cost</th>\n",
       "      <th>impressions</th>\n",
       "      <th>conversions</th>\n",
       "      <th>avg_postion</th>\n",
       "    </tr>\n",
       "  </thead>\n",
       "  <tbody>\n",
       "    <tr>\n",
       "      <th>0</th>\n",
       "      <td>0</td>\n",
       "      <td>1551288939</td>\n",
       "      <td>1484080226</td>\n",
       "      <td>56278671566</td>\n",
       "      <td>362396573757</td>\n",
       "      <td>+Décorateur +Peintre</td>\n",
       "      <td>2018-08-13</td>\n",
       "      <td>1</td>\n",
       "      <td>1.60</td>\n",
       "      <td>1</td>\n",
       "      <td>0.0</td>\n",
       "      <td>1.000000</td>\n",
       "    </tr>\n",
       "    <tr>\n",
       "      <th>1</th>\n",
       "      <td>1</td>\n",
       "      <td>1556604737</td>\n",
       "      <td>744170392</td>\n",
       "      <td>38463123585</td>\n",
       "      <td>94881345918</td>\n",
       "      <td>+Peinture +Niort</td>\n",
       "      <td>2018-08-24</td>\n",
       "      <td>1</td>\n",
       "      <td>0.94</td>\n",
       "      <td>1</td>\n",
       "      <td>0.0</td>\n",
       "      <td>2.000000</td>\n",
       "    </tr>\n",
       "    <tr>\n",
       "      <th>2</th>\n",
       "      <td>2</td>\n",
       "      <td>1559107978</td>\n",
       "      <td>1468647106</td>\n",
       "      <td>62493733088</td>\n",
       "      <td>389043783827</td>\n",
       "      <td>Taxi Remiremont</td>\n",
       "      <td>2018-08-02</td>\n",
       "      <td>3</td>\n",
       "      <td>1.76</td>\n",
       "      <td>5</td>\n",
       "      <td>0.0</td>\n",
       "      <td>1.000000</td>\n",
       "    </tr>\n",
       "    <tr>\n",
       "      <th>3</th>\n",
       "      <td>3</td>\n",
       "      <td>1568651041</td>\n",
       "      <td>1495197792</td>\n",
       "      <td>58813398638</td>\n",
       "      <td>376889097046</td>\n",
       "      <td>Serrurerie Merignac</td>\n",
       "      <td>2018-08-24</td>\n",
       "      <td>1</td>\n",
       "      <td>1.40</td>\n",
       "      <td>3</td>\n",
       "      <td>0.0</td>\n",
       "      <td>3.000000</td>\n",
       "    </tr>\n",
       "    <tr>\n",
       "      <th>4</th>\n",
       "      <td>4</td>\n",
       "      <td>1575898898</td>\n",
       "      <td>1078274555</td>\n",
       "      <td>53074066496</td>\n",
       "      <td>403784016698</td>\n",
       "      <td>Casse Automobile Guipavas</td>\n",
       "      <td>2018-08-14</td>\n",
       "      <td>2</td>\n",
       "      <td>0.41</td>\n",
       "      <td>7</td>\n",
       "      <td>0.0</td>\n",
       "      <td>2.128571</td>\n",
       "    </tr>\n",
       "  </tbody>\n",
       "</table>\n",
       "</div>"
      ],
      "text/plain": [
       "   Unnamed: 0  customer_id  campaign_id  ad_group_id    keyword_id  \\\n",
       "0           0   1551288939   1484080226  56278671566  362396573757   \n",
       "1           1   1556604737    744170392  38463123585   94881345918   \n",
       "2           2   1559107978   1468647106  62493733088  389043783827   \n",
       "3           3   1568651041   1495197792  58813398638  376889097046   \n",
       "4           4   1575898898   1078274555  53074066496  403784016698   \n",
       "\n",
       "  keyword_text_matching_query        date  clicks  cost  impressions  \\\n",
       "0        +Décorateur +Peintre  2018-08-13       1  1.60            1   \n",
       "1            +Peinture +Niort  2018-08-24       1  0.94            1   \n",
       "2             Taxi Remiremont  2018-08-02       3  1.76            5   \n",
       "3         Serrurerie Merignac  2018-08-24       1  1.40            3   \n",
       "4   Casse Automobile Guipavas  2018-08-14       2  0.41            7   \n",
       "\n",
       "   conversions  avg_postion  \n",
       "0          0.0     1.000000  \n",
       "1          0.0     2.000000  \n",
       "2          0.0     1.000000  \n",
       "3          0.0     3.000000  \n",
       "4          0.0     2.128571  "
      ]
     },
     "execution_count": 5,
     "metadata": {},
     "output_type": "execute_result"
    }
   ],
   "source": [
    "df.head()"
   ]
  },
  {
   "cell_type": "markdown",
   "metadata": {},
   "source": [
    "# General explorations"
   ]
  },
  {
   "cell_type": "code",
   "execution_count": 7,
   "metadata": {},
   "outputs": [
    {
     "name": "stdout",
     "output_type": "stream",
     "text": [
      "There are 671614 observations and 12 features\n"
     ]
    }
   ],
   "source": [
    "df.shape \n",
    "print('There are %0.0f observations and %0.0f features' %(df.shape[0],df.shape[1]))"
   ]
  },
  {
   "cell_type": "code",
   "execution_count": 9,
   "metadata": {},
   "outputs": [
    {
     "data": {
      "text/plain": [
       "'aaaaaa'"
      ]
     },
     "execution_count": 9,
     "metadata": {},
     "output_type": "execute_result"
    }
   ],
   "source": [
    "'aaaaaa'"
   ]
  },
  {
   "cell_type": "code",
   "execution_count": null,
   "metadata": {},
   "outputs": [],
   "source": []
  }
 ],
 "metadata": {
  "kernelspec": {
   "display_name": "Python 3",
   "language": "python",
   "name": "python3"
  },
  "language_info": {
   "codemirror_mode": {
    "name": "ipython",
    "version": 3
   },
   "file_extension": ".py",
   "mimetype": "text/x-python",
   "name": "python",
   "nbconvert_exporter": "python",
   "pygments_lexer": "ipython3",
   "version": "3.7.1"
  },
  "varInspector": {
   "cols": {
    "lenName": 16,
    "lenType": 16,
    "lenVar": 40
   },
   "kernels_config": {
    "python": {
     "delete_cmd_postfix": "",
     "delete_cmd_prefix": "del ",
     "library": "var_list.py",
     "varRefreshCmd": "print(var_dic_list())"
    },
    "r": {
     "delete_cmd_postfix": ") ",
     "delete_cmd_prefix": "rm(",
     "library": "var_list.r",
     "varRefreshCmd": "cat(var_dic_list()) "
    }
   },
   "types_to_exclude": [
    "module",
    "function",
    "builtin_function_or_method",
    "instance",
    "_Feature"
   ],
   "window_display": false
  }
 },
 "nbformat": 4,
 "nbformat_minor": 2
}
