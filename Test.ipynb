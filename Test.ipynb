{
 "cells": [
  {
   "cell_type": "markdown",
   "metadata": {},
   "source": [
    "## Effilab - business case"
   ]
  },
  {
   "cell_type": "markdown",
   "metadata": {},
   "source": [
    "Comment : please download this notebook and work locally as several candidates can access it. Thank you."
   ]
  },
  {
   "cell_type": "markdown",
   "metadata": {},
   "source": [
    "Effilab bids on keywords on Google Ads for its around 10,000 clients. The goal is to achieve the number of conversions promised to the client while spending an optimal budget on adwords. Currently, we have a model optimizing budget and cpc bid (cost per click bid) at the campaign level."
   ]
  },
  {
   "cell_type": "markdown",
   "metadata": {},
   "source": [
    "One of our goal to optimize the cpc is to understand the evolution of conversions in function of clicks and impressions.\n",
    "\n",
    "- **impression**: number of times the ads was shown by Google to a user. It depends, between other factors, on the cpc bid.\n",
    "- **CPC**: cost per click\n",
    "- **average_position**: average position (rank) in Google result pages. \n",
    "- **click**: when a user clicks on an ad\n",
    "- **conversion**: when a user did a specific action on the client's website (for example filling a form to get info)."
   ]
  },
  {
   "cell_type": "markdown",
   "metadata": {},
   "source": [
    "The csv 'dataset.csv' contains some data extracted from Google adwords. A first step will consist in extracting the dataset, checking the data and features that will help modelize the number of conversions. You can start with an exploratory analysis and some simple conclusions and modelization eventually."
   ]
  },
  {
   "cell_type": "markdown",
   "metadata": {},
   "source": [
    "### Environment"
   ]
  },
  {
   "cell_type": "markdown",
   "metadata": {},
   "source": [
    "Librairires\n",
    "\n",
    "- sklearn\n",
    "- pandas\n",
    "- dask\n",
    "- numpy\n",
    "- scipy\n",
    "- matplotlib"
   ]
  },
  {
   "cell_type": "markdown",
   "metadata": {},
   "source": [
    "If necessary, it is possible to install an external dependancy using `pip install <library>`"
   ]
  },
  {
   "cell_type": "code",
   "execution_count": 4,
   "metadata": {},
   "outputs": [],
   "source": [
    "import pandas as pd\n",
    "import numpy as np\n",
    "import matplotlib.pyplot as plt\n",
    "import seaborn as sns"
   ]
  },
  {
   "cell_type": "code",
   "execution_count": 177,
   "metadata": {},
   "outputs": [],
   "source": [
    "df = pd.read_csv(\n",
    "    'dataset.csv',\n",
    "    engine='python'\n",
    ")"
   ]
  },
  {
   "cell_type": "code",
   "execution_count": 6,
   "metadata": {},
   "outputs": [
    {
     "data": {
      "text/html": [
       "<div>\n",
       "<style scoped>\n",
       "    .dataframe tbody tr th:only-of-type {\n",
       "        vertical-align: middle;\n",
       "    }\n",
       "\n",
       "    .dataframe tbody tr th {\n",
       "        vertical-align: top;\n",
       "    }\n",
       "\n",
       "    .dataframe thead th {\n",
       "        text-align: right;\n",
       "    }\n",
       "</style>\n",
       "<table border=\"1\" class=\"dataframe\">\n",
       "  <thead>\n",
       "    <tr style=\"text-align: right;\">\n",
       "      <th></th>\n",
       "      <th>Unnamed: 0</th>\n",
       "      <th>customer_id</th>\n",
       "      <th>campaign_id</th>\n",
       "      <th>ad_group_id</th>\n",
       "      <th>keyword_id</th>\n",
       "      <th>keyword_text_matching_query</th>\n",
       "      <th>date</th>\n",
       "      <th>clicks</th>\n",
       "      <th>cost</th>\n",
       "      <th>impressions</th>\n",
       "      <th>conversions</th>\n",
       "      <th>avg_postion</th>\n",
       "    </tr>\n",
       "  </thead>\n",
       "  <tbody>\n",
       "    <tr>\n",
       "      <th>0</th>\n",
       "      <td>0</td>\n",
       "      <td>1551288939</td>\n",
       "      <td>1484080226</td>\n",
       "      <td>56278671566</td>\n",
       "      <td>362396573757</td>\n",
       "      <td>+Décorateur +Peintre</td>\n",
       "      <td>2018-08-13</td>\n",
       "      <td>1</td>\n",
       "      <td>1.60</td>\n",
       "      <td>1</td>\n",
       "      <td>0.0</td>\n",
       "      <td>1.000000</td>\n",
       "    </tr>\n",
       "    <tr>\n",
       "      <th>1</th>\n",
       "      <td>1</td>\n",
       "      <td>1556604737</td>\n",
       "      <td>744170392</td>\n",
       "      <td>38463123585</td>\n",
       "      <td>94881345918</td>\n",
       "      <td>+Peinture +Niort</td>\n",
       "      <td>2018-08-24</td>\n",
       "      <td>1</td>\n",
       "      <td>0.94</td>\n",
       "      <td>1</td>\n",
       "      <td>0.0</td>\n",
       "      <td>2.000000</td>\n",
       "    </tr>\n",
       "    <tr>\n",
       "      <th>2</th>\n",
       "      <td>2</td>\n",
       "      <td>1559107978</td>\n",
       "      <td>1468647106</td>\n",
       "      <td>62493733088</td>\n",
       "      <td>389043783827</td>\n",
       "      <td>Taxi Remiremont</td>\n",
       "      <td>2018-08-02</td>\n",
       "      <td>3</td>\n",
       "      <td>1.76</td>\n",
       "      <td>5</td>\n",
       "      <td>0.0</td>\n",
       "      <td>1.000000</td>\n",
       "    </tr>\n",
       "    <tr>\n",
       "      <th>3</th>\n",
       "      <td>3</td>\n",
       "      <td>1568651041</td>\n",
       "      <td>1495197792</td>\n",
       "      <td>58813398638</td>\n",
       "      <td>376889097046</td>\n",
       "      <td>Serrurerie Merignac</td>\n",
       "      <td>2018-08-24</td>\n",
       "      <td>1</td>\n",
       "      <td>1.40</td>\n",
       "      <td>3</td>\n",
       "      <td>0.0</td>\n",
       "      <td>3.000000</td>\n",
       "    </tr>\n",
       "    <tr>\n",
       "      <th>4</th>\n",
       "      <td>4</td>\n",
       "      <td>1575898898</td>\n",
       "      <td>1078274555</td>\n",
       "      <td>53074066496</td>\n",
       "      <td>403784016698</td>\n",
       "      <td>Casse Automobile Guipavas</td>\n",
       "      <td>2018-08-14</td>\n",
       "      <td>2</td>\n",
       "      <td>0.41</td>\n",
       "      <td>7</td>\n",
       "      <td>0.0</td>\n",
       "      <td>2.128571</td>\n",
       "    </tr>\n",
       "  </tbody>\n",
       "</table>\n",
       "</div>"
      ],
      "text/plain": [
       "   Unnamed: 0  customer_id  campaign_id  ad_group_id    keyword_id  \\\n",
       "0           0   1551288939   1484080226  56278671566  362396573757   \n",
       "1           1   1556604737    744170392  38463123585   94881345918   \n",
       "2           2   1559107978   1468647106  62493733088  389043783827   \n",
       "3           3   1568651041   1495197792  58813398638  376889097046   \n",
       "4           4   1575898898   1078274555  53074066496  403784016698   \n",
       "\n",
       "  keyword_text_matching_query        date  clicks  cost  impressions  \\\n",
       "0        +Décorateur +Peintre  2018-08-13       1  1.60            1   \n",
       "1            +Peinture +Niort  2018-08-24       1  0.94            1   \n",
       "2             Taxi Remiremont  2018-08-02       3  1.76            5   \n",
       "3         Serrurerie Merignac  2018-08-24       1  1.40            3   \n",
       "4   Casse Automobile Guipavas  2018-08-14       2  0.41            7   \n",
       "\n",
       "   conversions  avg_postion  \n",
       "0          0.0     1.000000  \n",
       "1          0.0     2.000000  \n",
       "2          0.0     1.000000  \n",
       "3          0.0     3.000000  \n",
       "4          0.0     2.128571  "
      ]
     },
     "execution_count": 6,
     "metadata": {},
     "output_type": "execute_result"
    }
   ],
   "source": [
    "df.head()"
   ]
  },
  {
   "cell_type": "markdown",
   "metadata": {},
   "source": [
    "# General explorations"
   ]
  },
  {
   "cell_type": "markdown",
   "metadata": {},
   "source": [
    "## supress first useless column (idem as index)"
   ]
  },
  {
   "cell_type": "code",
   "execution_count": 178,
   "metadata": {},
   "outputs": [],
   "source": [
    "df = df.drop(['Unnamed: 0'],axis=1)"
   ]
  },
  {
   "cell_type": "markdown",
   "metadata": {},
   "source": [
    "## number of informations"
   ]
  },
  {
   "cell_type": "code",
   "execution_count": 179,
   "metadata": {},
   "outputs": [
    {
     "name": "stdout",
     "output_type": "stream",
     "text": [
      "There are 671614 observations and 11 features\n"
     ]
    }
   ],
   "source": [
    "df.shape \n",
    "print('There are %0.0f observations and %0.0f features' %(df.shape[0],df.shape[1]))"
   ]
  },
  {
   "cell_type": "code",
   "execution_count": 180,
   "metadata": {},
   "outputs": [
    {
     "data": {
      "text/plain": [
       "customer_id                     10117\n",
       "campaign_id                     43804\n",
       "ad_group_id                    208983\n",
       "keyword_id                     131947\n",
       "keyword_text_matching_query    109804\n",
       "date                               31\n",
       "clicks                             58\n",
       "cost                             3775\n",
       "impressions                       494\n",
       "conversions                         4\n",
       "avg_postion                      8939\n",
       "dtype: int64"
      ]
     },
     "execution_count": 180,
     "metadata": {},
     "output_type": "execute_result"
    }
   ],
   "source": [
    "df.nunique()"
   ]
  },
  {
   "cell_type": "markdown",
   "metadata": {},
   "source": [
    "## check nan"
   ]
  },
  {
   "cell_type": "code",
   "execution_count": 232,
   "metadata": {},
   "outputs": [
    {
     "name": "stdout",
     "output_type": "stream",
     "text": [
      "avg_postion\n"
     ]
    }
   ],
   "source": [
    "for i in range(df.shape[1]) : \n",
    "    sum_na = df.iloc[:,i].isnull().sum()#.sum()\n",
    "    if sum_na !=0 : print(df.columns[i])"
   ]
  },
  {
   "cell_type": "markdown",
   "metadata": {},
   "source": [
    "There is empty values for the avg_position feature, let's check."
   ]
  },
  {
   "cell_type": "code",
   "execution_count": 236,
   "metadata": {},
   "outputs": [
    {
     "name": "stdout",
     "output_type": "stream",
     "text": [
      "There is 1266 observations for which there is no information about the avg_position\n"
     ]
    }
   ],
   "source": [
    "print('There is %0.0f observations for which there is no information about the avg_position' %len(df[df['avg_postion'].isnull()]))"
   ]
  },
  {
   "cell_type": "markdown",
   "metadata": {},
   "source": [
    "We will see what to do with these 1266 observations later (at modelisation part): \n",
    "    - whether to delete them \n",
    "    - whether to replace with mean value"
   ]
  },
  {
   "cell_type": "markdown",
   "metadata": {},
   "source": [
    "# Exploration feature by feature"
   ]
  },
  {
   "cell_type": "code",
   "execution_count": 9,
   "metadata": {},
   "outputs": [],
   "source": [
    "def feature_detail(df,feature,number) :\n",
    "    df_ok = df.copy()\n",
    "    df_ok[feature] = df_ok[feature].fillna('unknown')\n",
    "    top_10 = df_ok.groupby(feature).agg('size').sort_values(ascending=False).to_frame().reset_index()\n",
    "    top_10.columns=[str(x) for x in feature]+['nb_records']\n",
    "    top_10['percentage']=(100.* (top_10['nb_records'] / top_10['nb_records'].sum())).round(2)\n",
    "    print('%0.0f distinct values for the feature %s' %(top_10.shape[0],feature))\n",
    "    return top_10.head(number)"
   ]
  },
  {
   "cell_type": "code",
   "execution_count": 181,
   "metadata": {},
   "outputs": [
    {
     "name": "stdout",
     "output_type": "stream",
     "text": [
      "There are 31 distinct dates\n",
      "Campaigns have been created from 2018-08-01 to 2018-08-31\n"
     ]
    }
   ],
   "source": [
    "print('There are %0.0f distinct dates' %len(df['date'].unique()))\n",
    "#date of ad creation\n",
    "df.loc[:,'date'] = pd.to_datetime(df.loc[:,'date'])\n",
    "# create a feature representing the day \n",
    "df.loc[:,'date_day'] = df.loc[:,'date'].dt.day\n",
    "# create a feature representing the day of week\n",
    "df.loc[:,'date_dayofw'] = df.loc[:,'date'].dt.day_name()\n",
    "\n",
    "min_created = min(df['date'])\n",
    "max_created = max(df['date'])\n",
    "print('Campaigns have been created from %s to %s' %(min_created.date(), max_created.date()))"
   ]
  },
  {
   "cell_type": "code",
   "execution_count": 43,
   "metadata": {},
   "outputs": [
    {
     "name": "stdout",
     "output_type": "stream",
     "text": [
      "43804 distinct values for the feature ['campaign_id']\n"
     ]
    },
    {
     "data": {
      "text/plain": [
       "count    43804.000000\n",
       "mean        15.332253\n",
       "std         23.276624\n",
       "min          1.000000\n",
       "25%          3.000000\n",
       "50%          7.000000\n",
       "75%         19.000000\n",
       "max       1095.000000\n",
       "Name: nb_records, dtype: float64"
      ]
     },
     "execution_count": 43,
     "metadata": {},
     "output_type": "execute_result"
    }
   ],
   "source": [
    "test = feature_detail(df,['campaign_id'],50000)\n",
    "test['nb_records'].describe()"
   ]
  },
  {
   "cell_type": "markdown",
   "metadata": {},
   "source": [
    "There are 43 804 distinct campaign ids. Each campaign id have several ad groups and several keywords associated to the ad group. \n",
    "Thus, a campaign can have from 1 to around 1000 variations (depends of the date)."
   ]
  },
  {
   "cell_type": "code",
   "execution_count": 70,
   "metadata": {},
   "outputs": [
    {
     "name": "stdout",
     "output_type": "stream",
     "text": [
      "208983 distinct values for the feature ['campaign_id', 'ad_group_id']\n"
     ]
    },
    {
     "data": {
      "text/plain": [
       "count    50000.000000\n",
       "mean         8.914000\n",
       "std          7.867722\n",
       "min          3.000000\n",
       "25%          4.000000\n",
       "50%          6.000000\n",
       "75%         10.000000\n",
       "max        124.000000\n",
       "Name: nb_records, dtype: float64"
      ]
     },
     "execution_count": 70,
     "metadata": {},
     "output_type": "execute_result"
    }
   ],
   "source": [
    "test = feature_detail(df,['campaign_id','ad_group_id'],50000)\n",
    "test['nb_records'].describe()"
   ]
  },
  {
   "cell_type": "markdown",
   "metadata": {},
   "source": [
    "Each campaign is separated in ad groups : one campaign have on average 9 ad groups. \n",
    "It can reach more than 100 ad groups for a same campaign."
   ]
  },
  {
   "cell_type": "code",
   "execution_count": 68,
   "metadata": {},
   "outputs": [
    {
     "name": "stdout",
     "output_type": "stream",
     "text": [
      "312510 distinct values for the feature ['campaign_id', 'ad_group_id', 'keyword_id', 'keyword_text_matching_query']\n",
      "count    10.0\n",
      "mean     31.0\n",
      "std       0.0\n",
      "min      31.0\n",
      "25%      31.0\n",
      "50%      31.0\n",
      "75%      31.0\n",
      "max      31.0\n",
      "Name: nb_records, dtype: float64\n"
     ]
    },
    {
     "data": {
      "text/html": [
       "<div>\n",
       "<style scoped>\n",
       "    .dataframe tbody tr th:only-of-type {\n",
       "        vertical-align: middle;\n",
       "    }\n",
       "\n",
       "    .dataframe tbody tr th {\n",
       "        vertical-align: top;\n",
       "    }\n",
       "\n",
       "    .dataframe thead th {\n",
       "        text-align: right;\n",
       "    }\n",
       "</style>\n",
       "<table border=\"1\" class=\"dataframe\">\n",
       "  <thead>\n",
       "    <tr style=\"text-align: right;\">\n",
       "      <th></th>\n",
       "      <th>campaign_id</th>\n",
       "      <th>ad_group_id</th>\n",
       "      <th>keyword_id</th>\n",
       "      <th>keyword_text_matching_query</th>\n",
       "      <th>nb_records</th>\n",
       "      <th>percentage</th>\n",
       "    </tr>\n",
       "  </thead>\n",
       "  <tbody>\n",
       "    <tr>\n",
       "      <th>0</th>\n",
       "      <td>1425185730</td>\n",
       "      <td>53463909342</td>\n",
       "      <td>26733763551</td>\n",
       "      <td>+permis +voiture</td>\n",
       "      <td>31</td>\n",
       "      <td>0.0</td>\n",
       "    </tr>\n",
       "    <tr>\n",
       "      <th>1</th>\n",
       "      <td>1070528623</td>\n",
       "      <td>52792010285</td>\n",
       "      <td>370013849655</td>\n",
       "      <td>Pneus Pas Cher</td>\n",
       "      <td>31</td>\n",
       "      <td>0.0</td>\n",
       "    </tr>\n",
       "    <tr>\n",
       "      <th>2</th>\n",
       "      <td>1370691499</td>\n",
       "      <td>54510883157</td>\n",
       "      <td>351913403174</td>\n",
       "      <td>+machine +traite</td>\n",
       "      <td>31</td>\n",
       "      <td>0.0</td>\n",
       "    </tr>\n",
       "    <tr>\n",
       "      <th>3</th>\n",
       "      <td>1070531164</td>\n",
       "      <td>56926790560</td>\n",
       "      <td>370013849655</td>\n",
       "      <td>Pneus Pas Cher</td>\n",
       "      <td>31</td>\n",
       "      <td>0.0</td>\n",
       "    </tr>\n",
       "    <tr>\n",
       "      <th>4</th>\n",
       "      <td>1051571442</td>\n",
       "      <td>60770780091</td>\n",
       "      <td>177671636</td>\n",
       "      <td>Velux</td>\n",
       "      <td>31</td>\n",
       "      <td>0.0</td>\n",
       "    </tr>\n",
       "    <tr>\n",
       "      <th>5</th>\n",
       "      <td>1069704872</td>\n",
       "      <td>54444170876</td>\n",
       "      <td>370013849655</td>\n",
       "      <td>Pneus Pas Cher</td>\n",
       "      <td>31</td>\n",
       "      <td>0.0</td>\n",
       "    </tr>\n",
       "    <tr>\n",
       "      <th>6</th>\n",
       "      <td>1487469566</td>\n",
       "      <td>61577683870</td>\n",
       "      <td>350900819227</td>\n",
       "      <td>Contrôle Technique</td>\n",
       "      <td>31</td>\n",
       "      <td>0.0</td>\n",
       "    </tr>\n",
       "    <tr>\n",
       "      <th>7</th>\n",
       "      <td>1043226208</td>\n",
       "      <td>54500396293</td>\n",
       "      <td>296317284611</td>\n",
       "      <td>Constructeur Maison</td>\n",
       "      <td>31</td>\n",
       "      <td>0.0</td>\n",
       "    </tr>\n",
       "    <tr>\n",
       "      <th>8</th>\n",
       "      <td>1332823161</td>\n",
       "      <td>53743589926</td>\n",
       "      <td>350081959087</td>\n",
       "      <td>+Store +Banne</td>\n",
       "      <td>31</td>\n",
       "      <td>0.0</td>\n",
       "    </tr>\n",
       "    <tr>\n",
       "      <th>9</th>\n",
       "      <td>1471373693</td>\n",
       "      <td>54549270222</td>\n",
       "      <td>388547443604</td>\n",
       "      <td>Tirage tarot Amour</td>\n",
       "      <td>31</td>\n",
       "      <td>0.0</td>\n",
       "    </tr>\n",
       "  </tbody>\n",
       "</table>\n",
       "</div>"
      ],
      "text/plain": [
       "   campaign_id  ad_group_id    keyword_id keyword_text_matching_query  \\\n",
       "0   1425185730  53463909342   26733763551            +permis +voiture   \n",
       "1   1070528623  52792010285  370013849655              Pneus Pas Cher   \n",
       "2   1370691499  54510883157  351913403174            +machine +traite   \n",
       "3   1070531164  56926790560  370013849655              Pneus Pas Cher   \n",
       "4   1051571442  60770780091     177671636                       Velux   \n",
       "5   1069704872  54444170876  370013849655              Pneus Pas Cher   \n",
       "6   1487469566  61577683870  350900819227          Contrôle Technique   \n",
       "7   1043226208  54500396293  296317284611         Constructeur Maison   \n",
       "8   1332823161  53743589926  350081959087               +Store +Banne   \n",
       "9   1471373693  54549270222  388547443604          Tirage tarot Amour   \n",
       "\n",
       "   nb_records  percentage  \n",
       "0          31         0.0  \n",
       "1          31         0.0  \n",
       "2          31         0.0  \n",
       "3          31         0.0  \n",
       "4          31         0.0  \n",
       "5          31         0.0  \n",
       "6          31         0.0  \n",
       "7          31         0.0  \n",
       "8          31         0.0  \n",
       "9          31         0.0  "
      ]
     },
     "execution_count": 68,
     "metadata": {},
     "output_type": "execute_result"
    }
   ],
   "source": [
    "test = feature_detail(df,['campaign_id','ad_group_id','keyword_id','keyword_text_matching_query'],10)\n",
    "print(test['nb_records'].describe())\n",
    "test"
   ]
  },
  {
   "cell_type": "markdown",
   "metadata": {},
   "source": [
    "Each campaigns is seperated in different ad_group_id which are itselves separated by specific keywords.\n",
    "During August 2018, There had been 312 510 different \"enchères\". Each \"enchere\" was made each day of august 2018, so during 31 days. However, the cost by click is changing each day for a same type of ad selection."
   ]
  },
  {
   "cell_type": "code",
   "execution_count": 71,
   "metadata": {},
   "outputs": [
    {
     "data": {
      "text/html": [
       "<div>\n",
       "<style scoped>\n",
       "    .dataframe tbody tr th:only-of-type {\n",
       "        vertical-align: middle;\n",
       "    }\n",
       "\n",
       "    .dataframe tbody tr th {\n",
       "        vertical-align: top;\n",
       "    }\n",
       "\n",
       "    .dataframe thead th {\n",
       "        text-align: right;\n",
       "    }\n",
       "</style>\n",
       "<table border=\"1\" class=\"dataframe\">\n",
       "  <thead>\n",
       "    <tr style=\"text-align: right;\">\n",
       "      <th></th>\n",
       "      <th>clicks</th>\n",
       "      <th>cost</th>\n",
       "    </tr>\n",
       "  </thead>\n",
       "  <tbody>\n",
       "    <tr>\n",
       "      <th>12873</th>\n",
       "      <td>3</td>\n",
       "      <td>2.97</td>\n",
       "    </tr>\n",
       "    <tr>\n",
       "      <th>19582</th>\n",
       "      <td>3</td>\n",
       "      <td>4.00</td>\n",
       "    </tr>\n",
       "    <tr>\n",
       "      <th>19583</th>\n",
       "      <td>5</td>\n",
       "      <td>7.32</td>\n",
       "    </tr>\n",
       "    <tr>\n",
       "      <th>45855</th>\n",
       "      <td>6</td>\n",
       "      <td>8.63</td>\n",
       "    </tr>\n",
       "    <tr>\n",
       "      <th>109754</th>\n",
       "      <td>0</td>\n",
       "      <td>0.00</td>\n",
       "    </tr>\n",
       "    <tr>\n",
       "      <th>113191</th>\n",
       "      <td>2</td>\n",
       "      <td>3.13</td>\n",
       "    </tr>\n",
       "    <tr>\n",
       "      <th>130011</th>\n",
       "      <td>1</td>\n",
       "      <td>1.77</td>\n",
       "    </tr>\n",
       "    <tr>\n",
       "      <th>147070</th>\n",
       "      <td>0</td>\n",
       "      <td>0.00</td>\n",
       "    </tr>\n",
       "    <tr>\n",
       "      <th>153286</th>\n",
       "      <td>0</td>\n",
       "      <td>0.00</td>\n",
       "    </tr>\n",
       "    <tr>\n",
       "      <th>155341</th>\n",
       "      <td>0</td>\n",
       "      <td>0.00</td>\n",
       "    </tr>\n",
       "    <tr>\n",
       "      <th>217412</th>\n",
       "      <td>3</td>\n",
       "      <td>4.50</td>\n",
       "    </tr>\n",
       "    <tr>\n",
       "      <th>250703</th>\n",
       "      <td>4</td>\n",
       "      <td>3.15</td>\n",
       "    </tr>\n",
       "    <tr>\n",
       "      <th>338455</th>\n",
       "      <td>3</td>\n",
       "      <td>3.99</td>\n",
       "    </tr>\n",
       "    <tr>\n",
       "      <th>349885</th>\n",
       "      <td>2</td>\n",
       "      <td>3.24</td>\n",
       "    </tr>\n",
       "    <tr>\n",
       "      <th>355312</th>\n",
       "      <td>1</td>\n",
       "      <td>0.15</td>\n",
       "    </tr>\n",
       "    <tr>\n",
       "      <th>370280</th>\n",
       "      <td>5</td>\n",
       "      <td>8.64</td>\n",
       "    </tr>\n",
       "    <tr>\n",
       "      <th>378538</th>\n",
       "      <td>1</td>\n",
       "      <td>1.80</td>\n",
       "    </tr>\n",
       "    <tr>\n",
       "      <th>410934</th>\n",
       "      <td>0</td>\n",
       "      <td>0.00</td>\n",
       "    </tr>\n",
       "    <tr>\n",
       "      <th>411346</th>\n",
       "      <td>4</td>\n",
       "      <td>6.21</td>\n",
       "    </tr>\n",
       "    <tr>\n",
       "      <th>426908</th>\n",
       "      <td>0</td>\n",
       "      <td>0.00</td>\n",
       "    </tr>\n",
       "    <tr>\n",
       "      <th>427306</th>\n",
       "      <td>3</td>\n",
       "      <td>3.71</td>\n",
       "    </tr>\n",
       "    <tr>\n",
       "      <th>427307</th>\n",
       "      <td>1</td>\n",
       "      <td>1.73</td>\n",
       "    </tr>\n",
       "    <tr>\n",
       "      <th>466186</th>\n",
       "      <td>2</td>\n",
       "      <td>3.29</td>\n",
       "    </tr>\n",
       "    <tr>\n",
       "      <th>473957</th>\n",
       "      <td>3</td>\n",
       "      <td>4.07</td>\n",
       "    </tr>\n",
       "    <tr>\n",
       "      <th>496904</th>\n",
       "      <td>1</td>\n",
       "      <td>1.64</td>\n",
       "    </tr>\n",
       "    <tr>\n",
       "      <th>503087</th>\n",
       "      <td>1</td>\n",
       "      <td>1.80</td>\n",
       "    </tr>\n",
       "    <tr>\n",
       "      <th>512192</th>\n",
       "      <td>3</td>\n",
       "      <td>4.88</td>\n",
       "    </tr>\n",
       "    <tr>\n",
       "      <th>515097</th>\n",
       "      <td>1</td>\n",
       "      <td>1.33</td>\n",
       "    </tr>\n",
       "    <tr>\n",
       "      <th>515098</th>\n",
       "      <td>2</td>\n",
       "      <td>3.52</td>\n",
       "    </tr>\n",
       "    <tr>\n",
       "      <th>612604</th>\n",
       "      <td>0</td>\n",
       "      <td>0.00</td>\n",
       "    </tr>\n",
       "    <tr>\n",
       "      <th>668287</th>\n",
       "      <td>1</td>\n",
       "      <td>0.64</td>\n",
       "    </tr>\n",
       "  </tbody>\n",
       "</table>\n",
       "</div>"
      ],
      "text/plain": [
       "        clicks  cost\n",
       "12873        3  2.97\n",
       "19582        3  4.00\n",
       "19583        5  7.32\n",
       "45855        6  8.63\n",
       "109754       0  0.00\n",
       "113191       2  3.13\n",
       "130011       1  1.77\n",
       "147070       0  0.00\n",
       "153286       0  0.00\n",
       "155341       0  0.00\n",
       "217412       3  4.50\n",
       "250703       4  3.15\n",
       "338455       3  3.99\n",
       "349885       2  3.24\n",
       "355312       1  0.15\n",
       "370280       5  8.64\n",
       "378538       1  1.80\n",
       "410934       0  0.00\n",
       "411346       4  6.21\n",
       "426908       0  0.00\n",
       "427306       3  3.71\n",
       "427307       1  1.73\n",
       "466186       2  3.29\n",
       "473957       3  4.07\n",
       "496904       1  1.64\n",
       "503087       1  1.80\n",
       "512192       3  4.88\n",
       "515097       1  1.33\n",
       "515098       2  3.52\n",
       "612604       0  0.00\n",
       "668287       1  0.64"
      ]
     },
     "execution_count": 71,
     "metadata": {},
     "output_type": "execute_result"
    }
   ],
   "source": [
    "df.loc[(df['campaign_id']==1425185730)&\n",
    "  (df['ad_group_id']==53463909342)&\n",
    "  (df['keyword_id']==26733763551),['clicks','cost']]"
   ]
  },
  {
   "cell_type": "markdown",
   "metadata": {},
   "source": [
    "# Keywords"
   ]
  },
  {
   "cell_type": "code",
   "execution_count": 27,
   "metadata": {},
   "outputs": [
    {
     "name": "stdout",
     "output_type": "stream",
     "text": [
      "109804 distinct values for the feature ['keyword_text_matching_query']\n"
     ]
    },
    {
     "data": {
      "text/html": [
       "<div>\n",
       "<style scoped>\n",
       "    .dataframe tbody tr th:only-of-type {\n",
       "        vertical-align: middle;\n",
       "    }\n",
       "\n",
       "    .dataframe tbody tr th {\n",
       "        vertical-align: top;\n",
       "    }\n",
       "\n",
       "    .dataframe thead th {\n",
       "        text-align: right;\n",
       "    }\n",
       "</style>\n",
       "<table border=\"1\" class=\"dataframe\">\n",
       "  <thead>\n",
       "    <tr style=\"text-align: right;\">\n",
       "      <th></th>\n",
       "      <th>keyword_text_matching_query</th>\n",
       "      <th>nb_records</th>\n",
       "      <th>percentage</th>\n",
       "    </tr>\n",
       "  </thead>\n",
       "  <tbody>\n",
       "    <tr>\n",
       "      <th>0</th>\n",
       "      <td>Pneus Pas Cher</td>\n",
       "      <td>2081</td>\n",
       "      <td>0.31</td>\n",
       "    </tr>\n",
       "    <tr>\n",
       "      <th>1</th>\n",
       "      <td>Constructeur Maison</td>\n",
       "      <td>1405</td>\n",
       "      <td>0.21</td>\n",
       "    </tr>\n",
       "    <tr>\n",
       "      <th>2</th>\n",
       "      <td>Lissage Brésilien</td>\n",
       "      <td>1179</td>\n",
       "      <td>0.18</td>\n",
       "    </tr>\n",
       "    <tr>\n",
       "      <th>3</th>\n",
       "      <td>poele a granule</td>\n",
       "      <td>1161</td>\n",
       "      <td>0.17</td>\n",
       "    </tr>\n",
       "    <tr>\n",
       "      <th>4</th>\n",
       "      <td>+Motorisation +Portail</td>\n",
       "      <td>1005</td>\n",
       "      <td>0.15</td>\n",
       "    </tr>\n",
       "    <tr>\n",
       "      <th>5</th>\n",
       "      <td>poele a bois</td>\n",
       "      <td>966</td>\n",
       "      <td>0.14</td>\n",
       "    </tr>\n",
       "    <tr>\n",
       "      <th>6</th>\n",
       "      <td>Restaurant</td>\n",
       "      <td>955</td>\n",
       "      <td>0.14</td>\n",
       "    </tr>\n",
       "    <tr>\n",
       "      <th>7</th>\n",
       "      <td>Traiteur</td>\n",
       "      <td>887</td>\n",
       "      <td>0.13</td>\n",
       "    </tr>\n",
       "    <tr>\n",
       "      <th>8</th>\n",
       "      <td>Contrôle Technique</td>\n",
       "      <td>843</td>\n",
       "      <td>0.13</td>\n",
       "    </tr>\n",
       "    <tr>\n",
       "      <th>9</th>\n",
       "      <td>+Automobile +Garage</td>\n",
       "      <td>824</td>\n",
       "      <td>0.12</td>\n",
       "    </tr>\n",
       "  </tbody>\n",
       "</table>\n",
       "</div>"
      ],
      "text/plain": [
       "  keyword_text_matching_query  nb_records  percentage\n",
       "0              Pneus Pas Cher        2081        0.31\n",
       "1         Constructeur Maison        1405        0.21\n",
       "2           Lissage Brésilien        1179        0.18\n",
       "3             poele a granule        1161        0.17\n",
       "4      +Motorisation +Portail        1005        0.15\n",
       "5                poele a bois         966        0.14\n",
       "6                  Restaurant         955        0.14\n",
       "7                    Traiteur         887        0.13\n",
       "8          Contrôle Technique         843        0.13\n",
       "9         +Automobile +Garage         824        0.12"
      ]
     },
     "execution_count": 27,
     "metadata": {},
     "output_type": "execute_result"
    }
   ],
   "source": [
    "feature_detail(df,['keyword_text_matching_query'],10)"
   ]
  },
  {
   "cell_type": "code",
   "execution_count": 39,
   "metadata": {},
   "outputs": [
    {
     "name": "stdout",
     "output_type": "stream",
     "text": [
      "65193 distinct values for the feature ['keyword_text_matching_query']\n"
     ]
    },
    {
     "data": {
      "text/html": [
       "<div>\n",
       "<style scoped>\n",
       "    .dataframe tbody tr th:only-of-type {\n",
       "        vertical-align: middle;\n",
       "    }\n",
       "\n",
       "    .dataframe tbody tr th {\n",
       "        vertical-align: top;\n",
       "    }\n",
       "\n",
       "    .dataframe thead th {\n",
       "        text-align: right;\n",
       "    }\n",
       "</style>\n",
       "<table border=\"1\" class=\"dataframe\">\n",
       "  <thead>\n",
       "    <tr style=\"text-align: right;\">\n",
       "      <th></th>\n",
       "      <th>keyword_text_matching_query</th>\n",
       "      <th>nb_records</th>\n",
       "      <th>percentage</th>\n",
       "    </tr>\n",
       "  </thead>\n",
       "  <tbody>\n",
       "    <tr>\n",
       "      <th>0</th>\n",
       "      <td>+Motorisation +Portail</td>\n",
       "      <td>1005</td>\n",
       "      <td>0.27</td>\n",
       "    </tr>\n",
       "    <tr>\n",
       "      <th>1</th>\n",
       "      <td>+Automobile +Garage</td>\n",
       "      <td>824</td>\n",
       "      <td>0.22</td>\n",
       "    </tr>\n",
       "    <tr>\n",
       "      <th>2</th>\n",
       "      <td>+Restaurant</td>\n",
       "      <td>788</td>\n",
       "      <td>0.21</td>\n",
       "    </tr>\n",
       "    <tr>\n",
       "      <th>3</th>\n",
       "      <td>+Traiteur</td>\n",
       "      <td>762</td>\n",
       "      <td>0.21</td>\n",
       "    </tr>\n",
       "    <tr>\n",
       "      <th>4</th>\n",
       "      <td>+funerarium</td>\n",
       "      <td>749</td>\n",
       "      <td>0.20</td>\n",
       "    </tr>\n",
       "    <tr>\n",
       "      <th>5</th>\n",
       "      <td>+Fosse +Septique</td>\n",
       "      <td>723</td>\n",
       "      <td>0.20</td>\n",
       "    </tr>\n",
       "    <tr>\n",
       "      <th>6</th>\n",
       "      <td>+Lissage +Brésilien</td>\n",
       "      <td>676</td>\n",
       "      <td>0.18</td>\n",
       "    </tr>\n",
       "    <tr>\n",
       "      <th>7</th>\n",
       "      <td>+Fioul +Domestique</td>\n",
       "      <td>662</td>\n",
       "      <td>0.18</td>\n",
       "    </tr>\n",
       "    <tr>\n",
       "      <th>8</th>\n",
       "      <td>+Fabricant +Portail</td>\n",
       "      <td>635</td>\n",
       "      <td>0.17</td>\n",
       "    </tr>\n",
       "    <tr>\n",
       "      <th>9</th>\n",
       "      <td>+Coiffeur +Pas +Cher</td>\n",
       "      <td>615</td>\n",
       "      <td>0.17</td>\n",
       "    </tr>\n",
       "  </tbody>\n",
       "</table>\n",
       "</div>"
      ],
      "text/plain": [
       "  keyword_text_matching_query  nb_records  percentage\n",
       "0      +Motorisation +Portail        1005        0.27\n",
       "1         +Automobile +Garage         824        0.22\n",
       "2                 +Restaurant         788        0.21\n",
       "3                   +Traiteur         762        0.21\n",
       "4                 +funerarium         749        0.20\n",
       "5            +Fosse +Septique         723        0.20\n",
       "6         +Lissage +Brésilien         676        0.18\n",
       "7          +Fioul +Domestique         662        0.18\n",
       "8         +Fabricant +Portail         635        0.17\n",
       "9        +Coiffeur +Pas +Cher         615        0.17"
      ]
     },
     "execution_count": 39,
     "metadata": {},
     "output_type": "execute_result"
    }
   ],
   "source": [
    "test = df['keyword_text_matching_query'].str.lower().str.split(' ')\n",
    "feature_detail(df[df['keyword_text_matching_query'].str.contains('\\+')==True],['keyword_text_matching_query'],10)"
   ]
  },
  {
   "cell_type": "code",
   "execution_count": 182,
   "metadata": {},
   "outputs": [],
   "source": [
    "# contains some '+' or not \n",
    "df.loc[:,'keyword_+']=0\n",
    "df.loc[df['keyword_text_matching_query'].str.contains('\\+')==True,'keyword_+']=1\n",
    "# contains a '++''\n",
    "df.loc[:,'keyword_++']=0\n",
    "df.loc[df['keyword_text_matching_query'].str.contains('\\+\\+')==True,'keyword_++']=1\n",
    "# number of keywords\n",
    "df.loc[:,'keyword_nb'] = df['keyword_text_matching_query'].str.split(' ')\\\n",
    ".apply(lambda x : len([i for i in x if i != '++']))\n",
    "\n",
    "#df.loc[df['keyword_++']==1,['keyword_text_matching_query','keyword_nb_1']]"
   ]
  },
  {
   "cell_type": "markdown",
   "metadata": {},
   "source": [
    "# impressions "
   ]
  },
  {
   "cell_type": "code",
   "execution_count": 80,
   "metadata": {},
   "outputs": [
    {
     "data": {
      "text/plain": [
       "count    671614.000000\n",
       "mean          2.698785\n",
       "std          17.301113\n",
       "min           0.000000\n",
       "25%           1.000000\n",
       "50%           1.000000\n",
       "75%           2.000000\n",
       "max        4412.000000\n",
       "Name: impressions, dtype: float64"
      ]
     },
     "execution_count": 80,
     "metadata": {},
     "output_type": "execute_result"
    }
   ],
   "source": [
    "df['impressions'].describe()"
   ]
  },
  {
   "cell_type": "markdown",
   "metadata": {},
   "source": [
    "One type of ad is visible on average 1 time. But there are a lot of outliers 25% of the campaigns are visible in google between 2 and 4000 times. Let's see percentles for more precisions."
   ]
  },
  {
   "cell_type": "code",
   "execution_count": 83,
   "metadata": {},
   "outputs": [
    {
     "data": {
      "text/plain": [
       "0.90     4.0\n",
       "0.95     6.0\n",
       "0.99    23.0\n",
       "Name: impressions, dtype: float64"
      ]
     },
     "execution_count": 83,
     "metadata": {},
     "output_type": "execute_result"
    }
   ],
   "source": [
    "df['impressions'].quantile([0.9,0.95,0.99])"
   ]
  },
  {
   "cell_type": "markdown",
   "metadata": {},
   "source": [
    "Only 1% of ad researchs are visible more than 23 times. \n",
    "An ad research visible 4000 times seem weird, it is really far from the average."
   ]
  },
  {
   "cell_type": "code",
   "execution_count": 93,
   "metadata": {},
   "outputs": [
    {
     "data": {
      "text/html": [
       "<div>\n",
       "<style scoped>\n",
       "    .dataframe tbody tr th:only-of-type {\n",
       "        vertical-align: middle;\n",
       "    }\n",
       "\n",
       "    .dataframe tbody tr th {\n",
       "        vertical-align: top;\n",
       "    }\n",
       "\n",
       "    .dataframe thead th {\n",
       "        text-align: right;\n",
       "    }\n",
       "</style>\n",
       "<table border=\"1\" class=\"dataframe\">\n",
       "  <thead>\n",
       "    <tr style=\"text-align: right;\">\n",
       "      <th></th>\n",
       "      <th>Unnamed: 0</th>\n",
       "      <th>customer_id</th>\n",
       "      <th>campaign_id</th>\n",
       "      <th>ad_group_id</th>\n",
       "      <th>keyword_id</th>\n",
       "      <th>keyword_text_matching_query</th>\n",
       "      <th>date</th>\n",
       "      <th>clicks</th>\n",
       "      <th>cost</th>\n",
       "      <th>impressions</th>\n",
       "      <th>conversions</th>\n",
       "      <th>avg_postion</th>\n",
       "      <th>date_mth</th>\n",
       "      <th>date_day</th>\n",
       "    </tr>\n",
       "  </thead>\n",
       "  <tbody>\n",
       "    <tr>\n",
       "      <th>549965</th>\n",
       "      <td>549965</td>\n",
       "      <td>2806996680</td>\n",
       "      <td>1343520888</td>\n",
       "      <td>63061628108</td>\n",
       "      <td>24283541</td>\n",
       "      <td>velux</td>\n",
       "      <td>2018-08-16</td>\n",
       "      <td>1</td>\n",
       "      <td>7.78</td>\n",
       "      <td>4412</td>\n",
       "      <td>0.0</td>\n",
       "      <td>1.00272</td>\n",
       "      <td>2018</td>\n",
       "      <td>16</td>\n",
       "    </tr>\n",
       "  </tbody>\n",
       "</table>\n",
       "</div>"
      ],
      "text/plain": [
       "        Unnamed: 0  customer_id  campaign_id  ad_group_id  keyword_id  \\\n",
       "549965      549965   2806996680   1343520888  63061628108    24283541   \n",
       "\n",
       "       keyword_text_matching_query       date  clicks  cost  impressions  \\\n",
       "549965                       velux 2018-08-16       1  7.78         4412   \n",
       "\n",
       "        conversions  avg_postion  date_mth  date_day  \n",
       "549965          0.0      1.00272      2018        16  "
      ]
     },
     "execution_count": 93,
     "metadata": {},
     "output_type": "execute_result"
    }
   ],
   "source": [
    "df[df['impressions']==4412]"
   ]
  },
  {
   "cell_type": "markdown",
   "metadata": {},
   "source": [
    "# clicks"
   ]
  },
  {
   "cell_type": "code",
   "execution_count": 78,
   "metadata": {},
   "outputs": [
    {
     "data": {
      "text/plain": [
       "count    671614.000000\n",
       "mean          1.250647\n",
       "std           1.142853\n",
       "min           0.000000\n",
       "25%           1.000000\n",
       "50%           1.000000\n",
       "75%           1.000000\n",
       "max         101.000000\n",
       "Name: clicks, dtype: float64"
      ]
     },
     "execution_count": 78,
     "metadata": {},
     "output_type": "execute_result"
    }
   ],
   "source": [
    "df['clicks'].describe()"
   ]
  },
  {
   "cell_type": "code",
   "execution_count": 94,
   "metadata": {},
   "outputs": [
    {
     "data": {
      "text/plain": [
       "0.9    2.0\n",
       "Name: clicks, dtype: float64"
      ]
     },
     "execution_count": 94,
     "metadata": {},
     "output_type": "execute_result"
    }
   ],
   "source": [
    "df['clicks'].quantile([0.9])"
   ]
  },
  {
   "cell_type": "markdown",
   "metadata": {},
   "source": [
    "The maximum number of clicks made for a research ad is 101. Though, 90% of ad researchs are clicked less than 2 times."
   ]
  },
  {
   "cell_type": "markdown",
   "metadata": {},
   "source": [
    "# cost"
   ]
  },
  {
   "cell_type": "code",
   "execution_count": 100,
   "metadata": {},
   "outputs": [
    {
     "data": {
      "text/plain": [
       "count    617765.000000\n",
       "mean          1.441263\n",
       "std           2.106173\n",
       "min           0.010000\n",
       "25%           0.420000\n",
       "50%           0.830000\n",
       "75%           1.640000\n",
       "max         133.840000\n",
       "Name: cost, dtype: float64"
      ]
     },
     "execution_count": 100,
     "metadata": {},
     "output_type": "execute_result"
    }
   ],
   "source": [
    "df.loc[df['cost']!=0,'cost'].describe()"
   ]
  },
  {
   "cell_type": "code",
   "execution_count": 101,
   "metadata": {},
   "outputs": [
    {
     "data": {
      "text/plain": [
       "count    53849.0\n",
       "mean         0.0\n",
       "std          0.0\n",
       "min          0.0\n",
       "25%          0.0\n",
       "50%          0.0\n",
       "75%          0.0\n",
       "max          0.0\n",
       "Name: clicks, dtype: float64"
      ]
     },
     "execution_count": 101,
     "metadata": {},
     "output_type": "execute_result"
    }
   ],
   "source": [
    "df.loc[df['cost']==0,'clicks'].describe()"
   ]
  },
  {
   "cell_type": "markdown",
   "metadata": {},
   "source": [
    "The cost can be 0 when there isn't any click made. Otherwise it is on average 1.4 euros by ad and it can reach round 100 euros."
   ]
  },
  {
   "cell_type": "code",
   "execution_count": 147,
   "metadata": {},
   "outputs": [
    {
     "data": {
      "text/plain": [
       "array([1, 1, 3, ..., 1, 0, 1])"
      ]
     },
     "execution_count": 147,
     "metadata": {},
     "output_type": "execute_result"
    }
   ],
   "source": [
    "df.clicks.values#.reshape(-1,1)"
   ]
  },
  {
   "cell_type": "markdown",
   "metadata": {},
   "source": [
    "Let's look at the relation between the cost and the number of click"
   ]
  },
  {
   "cell_type": "code",
   "execution_count": 102,
   "metadata": {},
   "outputs": [
    {
     "name": "stdout",
     "output_type": "stream",
     "text": [
      "[0.7779938]\n",
      "[0.35270875]\n",
      "Mean squared error: 3.44\n",
      "Variance score: 0.19\n"
     ]
    }
   ],
   "source": [
    "from sklearn import linear_model\n",
    "from sklearn.metrics import mean_squared_error, r2_score\n",
    "\n",
    "regr = linear_model.LinearRegression()\n",
    "X = df.clicks.values.reshape(-1,1)\n",
    "y = df.cost.values.reshape(-1,1)\n",
    "regr.fit(X, y)\n",
    "print(regr.coef_[0])\n",
    "print(regr.intercept_)\n",
    "y_pred = regr.predict(X)\n",
    "print(\"Mean squared error: %.2f\"\n",
    "      % mean_squared_error(y, y_pred))\n",
    "# Explained variance score: 1 is perfect prediction\n",
    "print('Variance score: %.2f' % r2_score(y, y_pred))"
   ]
  },
  {
   "cell_type": "code",
   "execution_count": 103,
   "metadata": {},
   "outputs": [
    {
     "name": "stderr",
     "output_type": "stream",
     "text": [
      "/Users/paguilmin/anaconda3/lib/python3.7/site-packages/scipy/stats/stats.py:1713: FutureWarning: Using a non-tuple sequence for multidimensional indexing is deprecated; use `arr[tuple(seq)]` instead of `arr[seq]`. In the future this will be interpreted as an array index, `arr[np.array(seq)]`, which will result either in an error or a different result.\n",
      "  return np.add.reduce(sorted[indexer] * weights, axis=axis) / sumval\n"
     ]
    },
    {
     "data": {
      "text/plain": [
       "Text(0.5, 1.0, 'Relation betweeen number of clicks and cost')"
      ]
     },
     "execution_count": 103,
     "metadata": {},
     "output_type": "execute_result"
    },
    {
     "data": {
      "image/png": "[encoded data removed]",
      "text/plain": [
       "<Figure size 432x288 with 1 Axes>"
      ]
     },
     "metadata": {
      "needs_background": "light"
     },
     "output_type": "display_data"
    }
   ],
   "source": [
    "sns.regplot(x='clicks', y=\"cost\", data=df)\n",
    "plt.title('Relation betweeen number of clicks and cost')"
   ]
  },
  {
   "cell_type": "markdown",
   "metadata": {},
   "source": [
    "# average position"
   ]
  },
  {
   "cell_type": "code",
   "execution_count": 88,
   "metadata": {},
   "outputs": [
    {
     "data": {
      "text/plain": [
       "count    670348.000000\n",
       "mean          2.002858\n",
       "std           1.245060\n",
       "min           1.000000\n",
       "25%           1.000000\n",
       "50%           1.714286\n",
       "75%           3.000000\n",
       "max          11.000000\n",
       "Name: avg_postion, dtype: float64"
      ]
     },
     "execution_count": 88,
     "metadata": {},
     "output_type": "execute_result"
    }
   ],
   "source": [
    "df['avg_postion'].describe()"
   ]
  },
  {
   "cell_type": "markdown",
   "metadata": {},
   "source": [
    "Each ad research is on average the second link visible of google page. But, for 25% of ad research it is after the third links of google."
   ]
  },
  {
   "cell_type": "markdown",
   "metadata": {},
   "source": [
    "# conversion"
   ]
  },
  {
   "cell_type": "code",
   "execution_count": 89,
   "metadata": {},
   "outputs": [
    {
     "data": {
      "text/plain": [
       "count    671614.000000\n",
       "mean          0.013819\n",
       "std           0.117806\n",
       "min           0.000000\n",
       "25%           0.000000\n",
       "50%           0.000000\n",
       "75%           0.000000\n",
       "max           3.000000\n",
       "Name: conversions, dtype: float64"
      ]
     },
     "execution_count": 89,
     "metadata": {},
     "output_type": "execute_result"
    }
   ],
   "source": [
    "df['conversions'].describe()"
   ]
  },
  {
   "cell_type": "code",
   "execution_count": 107,
   "metadata": {},
   "outputs": [
    {
     "data": {
      "text/plain": [
       "0.8    1.0\n",
       "Name: clicks, dtype: float64"
      ]
     },
     "execution_count": 107,
     "metadata": {},
     "output_type": "execute_result"
    }
   ],
   "source": [
    "df['clicks'].quantile([0.8])"
   ]
  },
  {
   "cell_type": "code",
   "execution_count": 108,
   "metadata": {},
   "outputs": [
    {
     "data": {
      "text/plain": [
       "134322.80000000002"
      ]
     },
     "execution_count": 108,
     "metadata": {},
     "output_type": "execute_result"
    }
   ],
   "source": [
    "20/100*671614"
   ]
  },
  {
   "cell_type": "markdown",
   "metadata": {},
   "source": [
    "The conversion is the indicator showing that the number of the client has been seen or the user has sent a request. Only 20% (134 322) ads are transformed in an attempt of contact."
   ]
  },
  {
   "cell_type": "code",
   "execution_count": 144,
   "metadata": {},
   "outputs": [
    {
     "data": {
      "text/plain": [
       "Index(['Unnamed: 0', 'customer_id', 'campaign_id', 'ad_group_id', 'keyword_id',\n",
       "       'keyword_text_matching_query', 'date', 'clicks', 'cost', 'impressions',\n",
       "       'conversions', 'avg_postion', 'date_mth', 'date_day', 'keyword_+',\n",
       "       'keyword_++', 'keyword_nb_1'],\n",
       "      dtype='object')"
      ]
     },
     "execution_count": 144,
     "metadata": {},
     "output_type": "execute_result"
    }
   ],
   "source": [
    "df.columns"
   ]
  },
  {
   "cell_type": "markdown",
   "metadata": {},
   "source": [
    "# Modelise the number of conversion"
   ]
  },
  {
   "cell_type": "code",
   "execution_count": 154,
   "metadata": {},
   "outputs": [
    {
     "name": "stdout",
     "output_type": "stream",
     "text": [
      "4 distinct values for the feature ['conversions']\n"
     ]
    },
    {
     "data": {
      "text/html": [
       "<div>\n",
       "<style scoped>\n",
       "    .dataframe tbody tr th:only-of-type {\n",
       "        vertical-align: middle;\n",
       "    }\n",
       "\n",
       "    .dataframe tbody tr th {\n",
       "        vertical-align: top;\n",
       "    }\n",
       "\n",
       "    .dataframe thead th {\n",
       "        text-align: right;\n",
       "    }\n",
       "</style>\n",
       "<table border=\"1\" class=\"dataframe\">\n",
       "  <thead>\n",
       "    <tr style=\"text-align: right;\">\n",
       "      <th></th>\n",
       "      <th>conversions</th>\n",
       "      <th>nb_records</th>\n",
       "      <th>percentage</th>\n",
       "    </tr>\n",
       "  </thead>\n",
       "  <tbody>\n",
       "    <tr>\n",
       "      <th>0</th>\n",
       "      <td>0.0</td>\n",
       "      <td>662414</td>\n",
       "      <td>98.63</td>\n",
       "    </tr>\n",
       "    <tr>\n",
       "      <th>1</th>\n",
       "      <td>1.0</td>\n",
       "      <td>9122</td>\n",
       "      <td>1.36</td>\n",
       "    </tr>\n",
       "    <tr>\n",
       "      <th>2</th>\n",
       "      <td>2.0</td>\n",
       "      <td>75</td>\n",
       "      <td>0.01</td>\n",
       "    </tr>\n",
       "    <tr>\n",
       "      <th>3</th>\n",
       "      <td>3.0</td>\n",
       "      <td>3</td>\n",
       "      <td>0.00</td>\n",
       "    </tr>\n",
       "  </tbody>\n",
       "</table>\n",
       "</div>"
      ],
      "text/plain": [
       "   conversions  nb_records  percentage\n",
       "0          0.0      662414       98.63\n",
       "1          1.0        9122        1.36\n",
       "2          2.0          75        0.01\n",
       "3          3.0           3        0.00"
      ]
     },
     "execution_count": 154,
     "metadata": {},
     "output_type": "execute_result"
    }
   ],
   "source": [
    "feature_detail(df,['conversions'],5)"
   ]
  },
  {
   "cell_type": "markdown",
   "metadata": {},
   "source": [
    "As we have really few examples of number conversions above 1.\n",
    "We can just create a boolean feature for each ad (type of research and date). Hence, 1 will represent that the ad keywords this day have been trnsformed in a contact and 0 will represent that the ad keywords have not triggered an attempt of contact for the client."
   ]
  },
  {
   "cell_type": "markdown",
   "metadata": {},
   "source": [
    "## parameters"
   ]
  },
  {
   "cell_type": "markdown",
   "metadata": {},
   "source": [
    "### nan parameters"
   ]
  },
  {
   "cell_type": "markdown",
   "metadata": {},
   "source": [
    "But first let's deal with nan parameters in avg_position"
   ]
  },
  {
   "cell_type": "code",
   "execution_count": 241,
   "metadata": {},
   "outputs": [
    {
     "name": "stdout",
     "output_type": "stream",
     "text": [
      "Number of conversions when there is no information of avg position\n",
      "2 distinct values for the feature ['conversions']\n"
     ]
    },
    {
     "data": {
      "text/html": [
       "<div>\n",
       "<style scoped>\n",
       "    .dataframe tbody tr th:only-of-type {\n",
       "        vertical-align: middle;\n",
       "    }\n",
       "\n",
       "    .dataframe tbody tr th {\n",
       "        vertical-align: top;\n",
       "    }\n",
       "\n",
       "    .dataframe thead th {\n",
       "        text-align: right;\n",
       "    }\n",
       "</style>\n",
       "<table border=\"1\" class=\"dataframe\">\n",
       "  <thead>\n",
       "    <tr style=\"text-align: right;\">\n",
       "      <th></th>\n",
       "      <th>conversions</th>\n",
       "      <th>nb_records</th>\n",
       "      <th>percentage</th>\n",
       "    </tr>\n",
       "  </thead>\n",
       "  <tbody>\n",
       "    <tr>\n",
       "      <th>0</th>\n",
       "      <td>0.0</td>\n",
       "      <td>1254</td>\n",
       "      <td>99.05</td>\n",
       "    </tr>\n",
       "    <tr>\n",
       "      <th>1</th>\n",
       "      <td>1.0</td>\n",
       "      <td>12</td>\n",
       "      <td>0.95</td>\n",
       "    </tr>\n",
       "  </tbody>\n",
       "</table>\n",
       "</div>"
      ],
      "text/plain": [
       "   conversions  nb_records  percentage\n",
       "0          0.0        1254       99.05\n",
       "1          1.0          12        0.95"
      ]
     },
     "execution_count": 241,
     "metadata": {},
     "output_type": "execute_result"
    }
   ],
   "source": [
    "print('Number of conversions when there is no information of avg position')\n",
    "feature_detail(df[df['avg_postion'].isnull()],['conversions'],5)"
   ]
  },
  {
   "cell_type": "markdown",
   "metadata": {},
   "source": [
    "As there is only 12 observations with conversions = 1 and no average position, we can decide to suppress them instead of choising a value (median for instance)"
   ]
  },
  {
   "cell_type": "code",
   "execution_count": 248,
   "metadata": {},
   "outputs": [
    {
     "name": "stdout",
     "output_type": "stream",
     "text": [
      "We had 671614 observations before removing nan\n",
      "We now have 670348 observations after removing nan\n"
     ]
    }
   ],
   "source": [
    "print('We had %0.0f observations before removing nan' %len(df))\n",
    "df = df.dropna(subset=['avg_postion'])\n",
    "print('We now have %0.0f observations after removing nan' %len(df))"
   ]
  },
  {
   "cell_type": "markdown",
   "metadata": {},
   "source": [
    "### get dummies : one hot encoding"
   ]
  },
  {
   "cell_type": "markdown",
   "metadata": {},
   "source": [
    "And transform categorical feature in one hot encodings with get_dummies fonction "
   ]
  },
  {
   "cell_type": "code",
   "execution_count": 249,
   "metadata": {},
   "outputs": [],
   "source": [
    "df = df.reset_index(drop=True)\n",
    "df = pd.concat([df,pd.get_dummies(df['date_dayofw'])],axis=1)\n",
    "df = df.drop(['date_dayofw'],axis=1)"
   ]
  },
  {
   "cell_type": "markdown",
   "metadata": {},
   "source": [
    "## feature to predict"
   ]
  },
  {
   "cell_type": "code",
   "execution_count": 250,
   "metadata": {},
   "outputs": [],
   "source": [
    "df.loc[:,'conversion_ok'] = 0\n",
    "df.loc[df['conversions']>=1,'conversion_ok'] = 1"
   ]
  },
  {
   "cell_type": "code",
   "execution_count": 251,
   "metadata": {},
   "outputs": [
    {
     "name": "stdout",
     "output_type": "stream",
     "text": [
      "2 distinct values for the feature ['conversion_ok']\n"
     ]
    },
    {
     "data": {
      "text/html": [
       "<div>\n",
       "<style scoped>\n",
       "    .dataframe tbody tr th:only-of-type {\n",
       "        vertical-align: middle;\n",
       "    }\n",
       "\n",
       "    .dataframe tbody tr th {\n",
       "        vertical-align: top;\n",
       "    }\n",
       "\n",
       "    .dataframe thead th {\n",
       "        text-align: right;\n",
       "    }\n",
       "</style>\n",
       "<table border=\"1\" class=\"dataframe\">\n",
       "  <thead>\n",
       "    <tr style=\"text-align: right;\">\n",
       "      <th></th>\n",
       "      <th>conversion_ok</th>\n",
       "      <th>nb_records</th>\n",
       "      <th>percentage</th>\n",
       "    </tr>\n",
       "  </thead>\n",
       "  <tbody>\n",
       "    <tr>\n",
       "      <th>0</th>\n",
       "      <td>0</td>\n",
       "      <td>661160</td>\n",
       "      <td>98.63</td>\n",
       "    </tr>\n",
       "    <tr>\n",
       "      <th>1</th>\n",
       "      <td>1</td>\n",
       "      <td>9188</td>\n",
       "      <td>1.37</td>\n",
       "    </tr>\n",
       "  </tbody>\n",
       "</table>\n",
       "</div>"
      ],
      "text/plain": [
       "   conversion_ok  nb_records  percentage\n",
       "0              0      661160       98.63\n",
       "1              1        9188        1.37"
      ]
     },
     "execution_count": 251,
     "metadata": {},
     "output_type": "execute_result"
    }
   ],
   "source": [
    "feature_detail(df,['conversion_ok'],5)"
   ]
  },
  {
   "cell_type": "markdown",
   "metadata": {},
   "source": [
    "Now we have imbalanced data so let's just keep 9200 observations of ads that haven't been transformed into a contact."
   ]
  },
  {
   "cell_type": "markdown",
   "metadata": {},
   "source": [
    "## balance feature to predict"
   ]
  },
  {
   "cell_type": "code",
   "execution_count": 252,
   "metadata": {},
   "outputs": [
    {
     "name": "stdout",
     "output_type": "stream",
     "text": [
      "Percentage of conversion done 0.5\n",
      "Percentage of conversion not done 0.5\n",
      "Number of records for df_ok 18376\n"
     ]
    }
   ],
   "source": [
    "df = df.reset_index(drop=True)\n",
    "df_1_sample = df[df['conversion_ok']==1]\n",
    "import random\n",
    "df_0_index = df[df['conversion_ok']==0].index\n",
    "random_df_0_index = np.random.choice(df_0_index,int(sum(df['conversion_ok'])),replace=False)\n",
    "df_0_sample = df.loc[random_df_0_index]\n",
    "\n",
    "df_ok = pd.concat([df_1_sample,df_0_sample],axis=0)\n",
    "print('Percentage of conversion done %0.1f' %(len(df_ok[df_ok['conversion_ok']==1])/len(df_ok)))\n",
    "print('Percentage of conversion not done %0.1f' %(len(df_ok[df_ok['conversion_ok']==0])/len(df_ok)))\n",
    "print('Number of records for df_ok %0.0f' %(len(df_ok)))\n",
    "df_ok = df_ok.drop(['conversions','keyword_text_matching_query','date'],axis=1)"
   ]
  },
  {
   "cell_type": "markdown",
   "metadata": {},
   "source": [
    "## shuffle data"
   ]
  },
  {
   "cell_type": "markdown",
   "metadata": {},
   "source": [
    "Now that our prediction feature is well balanced we can shuffle it to improve the modelisation results afterwards."
   ]
  },
  {
   "cell_type": "code",
   "execution_count": 253,
   "metadata": {},
   "outputs": [],
   "source": [
    "df_ok = df_ok.loc[np.random.permutation(df_ok.index)]\n",
    "df_ok = df_ok.reset_index(drop=True)"
   ]
  },
  {
   "cell_type": "markdown",
   "metadata": {},
   "source": [
    "## correlations"
   ]
  },
  {
   "cell_type": "code",
   "execution_count": 254,
   "metadata": {},
   "outputs": [
    {
     "data": {
      "text/plain": [
       "Text(0.5, 1.0, 'Represents the correlations betweeen features')"
      ]
     },
     "execution_count": 254,
     "metadata": {},
     "output_type": "execute_result"
    },
    {
     "data": {
      "image/png": "[encoded data removed]",
      "text/plain": [
       "<Figure size 1296x1296 with 2 Axes>"
      ]
     },
     "metadata": {
      "needs_background": "light"
     },
     "output_type": "display_data"
    }
   ],
   "source": [
    "tab_corr = df_ok.corr()\n",
    "plt.figure(figsize=(18, 18))\n",
    "sns.heatmap(tab_corr, vmax=1, square=True,annot=True,cmap='viridis')\n",
    "plt.title('Represents the correlations betweeen features')"
   ]
  },
  {
   "cell_type": "markdown",
   "metadata": {},
   "source": [
    "## separate the parameters and the feature to predict"
   ]
  },
  {
   "cell_type": "code",
   "execution_count": 255,
   "metadata": {},
   "outputs": [],
   "source": [
    "# features parameters\n",
    "X = df_ok.loc[:, df_ok.columns != 'conversion_ok']\n",
    "# feature to predict\n",
    "y = df_ok.loc[:, df_ok.columns == 'conversion_ok']"
   ]
  },
  {
   "cell_type": "markdown",
   "metadata": {},
   "source": [
    "## separate train test"
   ]
  },
  {
   "cell_type": "code",
   "execution_count": 256,
   "metadata": {},
   "outputs": [
    {
     "data": {
      "text/plain": [
       "Index(['customer_id', 'campaign_id', 'ad_group_id', 'keyword_id', 'clicks',\n",
       "       'cost', 'impressions', 'avg_postion', 'date_day', 'keyword_+',\n",
       "       'keyword_++', 'keyword_nb_1', 'conversion_ok', 'Friday', 'Monday',\n",
       "       'Saturday', 'Sunday', 'Thursday', 'Tuesday', 'Wednesday'],\n",
       "      dtype='object')"
      ]
     },
     "execution_count": 256,
     "metadata": {},
     "output_type": "execute_result"
    }
   ],
   "source": [
    "df_ok.columns"
   ]
  },
  {
   "cell_type": "code",
   "execution_count": 257,
   "metadata": {},
   "outputs": [],
   "source": [
    "from sklearn.model_selection import train_test_split\n",
    "X_train, X_test, y_train, y_test = train_test_split(X, y, test_size=0.3, random_state=0)"
   ]
  },
  {
   "cell_type": "code",
   "execution_count": 277,
   "metadata": {},
   "outputs": [
    {
     "name": "stderr",
     "output_type": "stream",
     "text": [
      "/Users/paguilmin/anaconda3/lib/python3.7/site-packages/ipykernel_launcher.py:5: DataConversionWarning: A column-vector y was passed when a 1d array was expected. Please change the shape of y to (n_samples,), for example using ravel().\n",
      "  \"\"\"\n"
     ]
    },
    {
     "data": {
      "text/plain": [
       "RandomForestClassifier(bootstrap=True, class_weight=None, criterion='gini',\n",
       "            max_depth=None, max_features='auto', max_leaf_nodes=None,\n",
       "            min_impurity_decrease=0.0, min_impurity_split=None,\n",
       "            min_samples_leaf=1, min_samples_split=2,\n",
       "            min_weight_fraction_leaf=0.0, n_estimators=1000, n_jobs=None,\n",
       "            oob_score=False, random_state=0, verbose=0, warm_start=False)"
      ]
     },
     "execution_count": 277,
     "metadata": {},
     "output_type": "execute_result"
    }
   ],
   "source": [
    "from sklearn.ensemble import RandomForestClassifier\n",
    "\n",
    "classifier = RandomForestClassifier(random_state=0, n_estimators=1000,max_depth=2)\n",
    "#,\n",
    "classifier.fit(X_train, y_train)"
   ]
  },
  {
   "cell_type": "code",
   "execution_count": 278,
   "metadata": {},
   "outputs": [],
   "source": [
    "from sklearn.metrics import classification_report\n",
    "from sklearn.metrics import confusion_matrix\n",
    "from sklearn.metrics import accuracy_score, precision_score, recall_score"
   ]
  },
  {
   "cell_type": "code",
   "execution_count": 279,
   "metadata": {},
   "outputs": [
    {
     "name": "stdout",
     "output_type": "stream",
     "text": [
      "Matrice de confusion\n",
      "[[1657 1106]\n",
      " [ 997 1753]]\n",
      "Accuracy of lrandom forest : 0.62\n"
     ]
    }
   ],
   "source": [
    "y_pred = classifier.predict(X_test)\n",
    "\n",
    "cm = confusion_matrix(y_test,y_pred)\n",
    "print('Matrice de confusion')\n",
    "print(cm)\n",
    "print('Accuracy of lrandom forest : %0.02f' %(accuracy_score(y_test,y_pred)))"
   ]
  },
  {
   "cell_type": "code",
   "execution_count": 280,
   "metadata": {},
   "outputs": [
    {
     "name": "stdout",
     "output_type": "stream",
     "text": [
      "AUC: 0.672\n"
     ]
    },
    {
     "data": {
      "image/png": "[encoded data removed]",
      "text/plain": [
       "<Figure size 432x288 with 1 Axes>"
      ]
     },
     "metadata": {
      "needs_background": "light"
     },
     "output_type": "display_data"
    }
   ],
   "source": [
    "#from sklearn import metrics\n",
    "from sklearn.metrics import roc_curve\n",
    "from sklearn.metrics import roc_auc_score\n",
    "# predict probabilities\n",
    "probs = classifier.predict_proba(X_test)\n",
    "# keep probabilities for the positive outcome only\n",
    "probs = probs[:, 1]\n",
    "# calculate AUC\n",
    "auc = roc_auc_score(y_test, probs)\n",
    "print('AUC: %.3f' % auc)\n",
    "# calculate roc curve\n",
    "fpr, tpr, thresholds = roc_curve(y_test, probs)\n",
    "# plot no skill\n",
    "plt.plot([0, 1], [0, 1], linestyle='--')\n",
    "# plot the roc curve for the model\n",
    "plt.plot(fpr, tpr, marker='.')\n",
    "# show the plot\n",
    "plt.show()"
   ]
  },
  {
   "cell_type": "code",
   "execution_count": 262,
   "metadata": {},
   "outputs": [
    {
     "data": {
      "text/html": [
       "<div>\n",
       "<style scoped>\n",
       "    .dataframe tbody tr th:only-of-type {\n",
       "        vertical-align: middle;\n",
       "    }\n",
       "\n",
       "    .dataframe tbody tr th {\n",
       "        vertical-align: top;\n",
       "    }\n",
       "\n",
       "    .dataframe thead th {\n",
       "        text-align: right;\n",
       "    }\n",
       "</style>\n",
       "<table border=\"1\" class=\"dataframe\">\n",
       "  <thead>\n",
       "    <tr style=\"text-align: right;\">\n",
       "      <th></th>\n",
       "      <th>importance</th>\n",
       "    </tr>\n",
       "  </thead>\n",
       "  <tbody>\n",
       "    <tr>\n",
       "      <th>cost</th>\n",
       "      <td>0.162032</td>\n",
       "    </tr>\n",
       "    <tr>\n",
       "      <th>campaign_id</th>\n",
       "      <td>0.128531</td>\n",
       "    </tr>\n",
       "    <tr>\n",
       "      <th>customer_id</th>\n",
       "      <td>0.127829</td>\n",
       "    </tr>\n",
       "    <tr>\n",
       "      <th>keyword_id</th>\n",
       "      <td>0.127554</td>\n",
       "    </tr>\n",
       "    <tr>\n",
       "      <th>ad_group_id</th>\n",
       "      <td>0.126522</td>\n",
       "    </tr>\n",
       "    <tr>\n",
       "      <th>date_day</th>\n",
       "      <td>0.076124</td>\n",
       "    </tr>\n",
       "    <tr>\n",
       "      <th>avg_postion</th>\n",
       "      <td>0.051323</td>\n",
       "    </tr>\n",
       "    <tr>\n",
       "      <th>clicks</th>\n",
       "      <td>0.047500</td>\n",
       "    </tr>\n",
       "    <tr>\n",
       "      <th>keyword_nb_1</th>\n",
       "      <td>0.036558</td>\n",
       "    </tr>\n",
       "    <tr>\n",
       "      <th>impressions</th>\n",
       "      <td>0.027095</td>\n",
       "    </tr>\n",
       "    <tr>\n",
       "      <th>keyword_+</th>\n",
       "      <td>0.017008</td>\n",
       "    </tr>\n",
       "    <tr>\n",
       "      <th>Thursday</th>\n",
       "      <td>0.012613</td>\n",
       "    </tr>\n",
       "    <tr>\n",
       "      <th>Friday</th>\n",
       "      <td>0.012014</td>\n",
       "    </tr>\n",
       "    <tr>\n",
       "      <th>Monday</th>\n",
       "      <td>0.011929</td>\n",
       "    </tr>\n",
       "    <tr>\n",
       "      <th>Wednesday</th>\n",
       "      <td>0.010580</td>\n",
       "    </tr>\n",
       "    <tr>\n",
       "      <th>Tuesday</th>\n",
       "      <td>0.010194</td>\n",
       "    </tr>\n",
       "    <tr>\n",
       "      <th>Sunday</th>\n",
       "      <td>0.007527</td>\n",
       "    </tr>\n",
       "    <tr>\n",
       "      <th>Saturday</th>\n",
       "      <td>0.006892</td>\n",
       "    </tr>\n",
       "    <tr>\n",
       "      <th>keyword_++</th>\n",
       "      <td>0.000173</td>\n",
       "    </tr>\n",
       "  </tbody>\n",
       "</table>\n",
       "</div>"
      ],
      "text/plain": [
       "              importance\n",
       "cost            0.162032\n",
       "campaign_id     0.128531\n",
       "customer_id     0.127829\n",
       "keyword_id      0.127554\n",
       "ad_group_id     0.126522\n",
       "date_day        0.076124\n",
       "avg_postion     0.051323\n",
       "clicks          0.047500\n",
       "keyword_nb_1    0.036558\n",
       "impressions     0.027095\n",
       "keyword_+       0.017008\n",
       "Thursday        0.012613\n",
       "Friday          0.012014\n",
       "Monday          0.011929\n",
       "Wednesday       0.010580\n",
       "Tuesday         0.010194\n",
       "Sunday          0.007527\n",
       "Saturday        0.006892\n",
       "keyword_++      0.000173"
      ]
     },
     "execution_count": 262,
     "metadata": {},
     "output_type": "execute_result"
    }
   ],
   "source": [
    "feature_importances = pd.DataFrame(classifier.feature_importances_,\n",
    "                                   index = X.columns,\n",
    "                                   columns=['importance']).sort_values('importance',ascending=False)\n",
    "feature_importances"
   ]
  },
  {
   "cell_type": "code",
   "execution_count": 271,
   "metadata": {},
   "outputs": [
    {
     "name": "stdout",
     "output_type": "stream",
     "text": [
      "Matrice de confusion\n",
      "[[1937  826]\n",
      " [ 818 1932]]\n",
      "Accuracy of lrandom forest : 0.70\n"
     ]
    },
    {
     "name": "stderr",
     "output_type": "stream",
     "text": [
      "/Users/paguilmin/anaconda3/lib/python3.7/site-packages/ipykernel_launcher.py:3: DataConversionWarning: A column-vector y was passed when a 1d array was expected. Please change the shape of y to (n_samples, ), for example using ravel().\n",
      "  This is separate from the ipykernel package so we can avoid doing imports until\n"
     ]
    }
   ],
   "source": [
    "from sklearn import neighbors\n",
    "clf2 = neighbors.KNeighborsClassifier()\n",
    "clf2.fit(X, y)\n",
    "y_pred2 = clf2.predict(X_test)\n",
    "cm = confusion_matrix(y_test,y_pred2)\n",
    "print('Matrice de confusion')\n",
    "print(cm)\n",
    "print('Accuracy of K-nearest neighbors : %0.02f' %(accuracy_score(y_test,y_pred2)))"
   ]
  },
  {
   "cell_type": "code",
   "execution_count": 272,
   "metadata": {},
   "outputs": [
    {
     "name": "stdout",
     "output_type": "stream",
     "text": [
      "AUC: 0.769\n"
     ]
    },
    {
     "data": {
      "image/png": "[encoded data removed]",
      "text/plain": [
       "<Figure size 432x288 with 1 Axes>"
      ]
     },
     "metadata": {
      "needs_background": "light"
     },
     "output_type": "display_data"
    }
   ],
   "source": [
    "#from sklearn import metrics\n",
    "from sklearn.metrics import roc_curve\n",
    "from sklearn.metrics import roc_auc_score\n",
    "# predict probabilities\n",
    "probs = clf2.predict_proba(X_test)\n",
    "# keep probabilities for the positive outcome only\n",
    "probs = probs[:, 1]\n",
    "# calculate AUC\n",
    "auc = roc_auc_score(y_test, probs)\n",
    "print('AUC: %.3f' % auc)\n",
    "# calculate roc curve\n",
    "fpr, tpr, thresholds = roc_curve(y_test, probs)\n",
    "# plot no skill\n",
    "plt.plot([0, 1], [0, 1], linestyle='--')\n",
    "# plot the roc curve for the model\n",
    "plt.plot(fpr, tpr, marker='.')\n",
    "# show the plot\n",
    "plt.show()"
   ]
  },
  {
   "cell_type": "code",
   "execution_count": null,
   "metadata": {},
   "outputs": [],
   "source": []
  }
 ],
 "metadata": {
  "kernelspec": {
   "display_name": "Python 3",
   "language": "python",
   "name": "python3"
  },
  "language_info": {
   "codemirror_mode": {
    "name": "ipython",
    "version": 3
   },
   "file_extension": ".py",
   "mimetype": "text/x-python",
   "name": "python",
   "nbconvert_exporter": "python",
   "pygments_lexer": "ipython3",
   "version": "3.7.1"
  },
  "varInspector": {
   "cols": {
    "lenName": 16,
    "lenType": 16,
    "lenVar": 40
   },
   "kernels_config": {
    "python": {
     "delete_cmd_postfix": "",
     "delete_cmd_prefix": "del ",
     "library": "var_list.py",
     "varRefreshCmd": "print(var_dic_list())"
    },
    "r": {
     "delete_cmd_postfix": ") ",
     "delete_cmd_prefix": "rm(",
     "library": "var_list.r",
     "varRefreshCmd": "cat(var_dic_list()) "
    }
   },
   "types_to_exclude": [
    "module",
    "function",
    "builtin_function_or_method",
    "instance",
    "_Feature"
   ],
   "window_display": false
  }
 },
 "nbformat": 4,
 "nbformat_minor": 2
}
